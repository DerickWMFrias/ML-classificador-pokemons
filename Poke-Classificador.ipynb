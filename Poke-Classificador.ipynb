{
  "cells": [
    {
      "cell_type": "markdown",
      "id": "b95078bd-706a-495e-b632-4007fbb48d25",
      "metadata": {
        "id": "b95078bd-706a-495e-b632-4007fbb48d25"
      },
      "source": [
        "# MAC0460: Exercício Programa 2\n",
        "\n",
        "**Aluno**: Dérick William de Moraes Frias\n",
        "\n",
        "**NUSP**: 11207623"
      ]
    },
    {
      "cell_type": "markdown",
      "id": "tmKtE05ojltb",
      "metadata": {
        "id": "tmKtE05ojltb",
        "jp-MarkdownHeadingCollapsed": true,
        "tags": []
      },
      "source": [
        "# Abstrato\n",
        "\n",
        "Este código é o projeto de um classificador binário de 'tipo 1' de pokemons. Este classificador binário decide tipos de pokemons entre 'water type' e 'normal type'.\n",
        "\n",
        "A classificação de pokemons é feita com base apenas nas características físicas e de saude dos pokemons. Além disto, a classificação dos pokemons será feita com a ajuda do Pikachu, um pokemon de tipo elétrico, sendo assim podemos usar a característica 'against_electric' dos pokemons no nosso classificador. Como não queremos que nosso Pikachu se machuque, descartamos no classificador os campos referentes aos ataques de cada pokemon. Por fim, o tipo secundário dos pokemons é ignorado.\n",
        "\n",
        "O objetivo deste projeto é estudar o comportamento dos algoritmos SVM, Decision Tree, Random Forest e Linear Regression, com amostras de dados normalizadas e não-normalizadas.\n",
        "\n",
        "O código é dividido em seções curtas, e deve ser executado sequencialmente.\n",
        "\n",
        "Antes de executar, importe pokedata.csv.\n"
      ]
    },
    {
      "cell_type": "markdown",
      "id": "W1wVa0SI71x1",
      "metadata": {
        "id": "W1wVa0SI71x1"
      },
      "source": [
        "### Pokedata"
      ]
    },
    {
      "cell_type": "markdown",
      "id": "lDHWGF5H7sdQ",
      "metadata": {
        "id": "lDHWGF5H7sdQ"
      },
      "source": [
        "Get pokedata.csv at https://www.kaggle.com/datasets/rounakbanik/pokemon"
      ]
    },
    {
      "cell_type": "markdown",
      "id": "sTcjUGFTzyLA",
      "metadata": {
        "id": "sTcjUGFTzyLA"
      },
      "source": [
        "#Montagem do Dataframe"
      ]
    },
    {
      "cell_type": "markdown",
      "id": "IHA0ztBajl5L",
      "metadata": {
        "id": "IHA0ztBajl5L",
        "jp-MarkdownHeadingCollapsed": true,
        "tags": []
      },
      "source": [
        "## Imports\n"
      ]
    },
    {
      "cell_type": "code",
      "execution_count": 1,
      "id": "54c5d4cf-ecc0-4bfc-a125-1673416c0ab8",
      "metadata": {
        "id": "54c5d4cf-ecc0-4bfc-a125-1673416c0ab8"
      },
      "outputs": [],
      "source": [
        "import pandas as pd\n",
        "import numpy as np\n",
        "import seaborn as sns\n",
        "import matplotlib.pyplot as plt\n",
        "from scipy.stats import pearsonr\n",
        "import numpy as np\n",
        "\n",
        "from sklearn.model_selection import GridSearchCV, KFold\n",
        "from sklearn import metrics\n"
      ]
    },
    {
      "cell_type": "markdown",
      "id": "uxBjyWPrjXXF",
      "metadata": {
        "id": "uxBjyWPrjXXF",
        "jp-MarkdownHeadingCollapsed": true,
        "tags": []
      },
      "source": [
        "### Definindo Seed Global\n"
      ]
    },
    {
      "cell_type": "code",
      "execution_count": 2,
      "id": "iTBw1kfz_6mz",
      "metadata": {
        "id": "iTBw1kfz_6mz"
      },
      "outputs": [],
      "source": [
        "seed = 7542"
      ]
    },
    {
      "cell_type": "markdown",
      "id": "8e7f0f91-3a3f-4a6a-b02f-da2faf17ad29",
      "metadata": {
        "id": "8e7f0f91-3a3f-4a6a-b02f-da2faf17ad29",
        "jp-MarkdownHeadingCollapsed": true,
        "tags": []
      },
      "source": [
        "### Carregando Dados dos Pokemons\n"
      ]
    },
    {
      "cell_type": "code",
      "execution_count": 4,
      "id": "52471ee8-e4ed-425a-8dbc-37a2f35bcdcc",
      "metadata": {
        "id": "52471ee8-e4ed-425a-8dbc-37a2f35bcdcc"
      },
      "outputs": [],
      "source": [
        "df = pd.read_csv(\"sample_data/pokedata.csv\") #Can be downloaded at https://www.kaggle.com/datasets/rounakbanik/pokemon"
      ]
    },
    {
      "cell_type": "markdown",
      "id": "EwMjL3EejJ8b",
      "metadata": {
        "id": "EwMjL3EejJ8b"
      },
      "source": [
        "#Infos gerais do Dataframe"
      ]
    },
    {
      "cell_type": "code",
      "execution_count": 5,
      "id": "pQ8ym_T2jTnk",
      "metadata": {
        "colab": {
          "base_uri": "https://localhost:8080/",
          "height": 377
        },
        "id": "pQ8ym_T2jTnk",
        "outputId": "4e8a1531-7e12-47cd-e840-61d0d231e47d"
      },
      "outputs": [
        {
          "data": {
            "application/vnd.google.colaboratory.intrinsic+json": {
              "type": "dataframe",
              "variable_name": "df"
            },
            "text/html": [
              "\n",
              "  <div id=\"df-2fc9eecc-5885-4616-86bd-8fc3aa738bf7\" class=\"colab-df-container\">\n",
              "    <div>\n",
              "<style scoped>\n",
              "    .dataframe tbody tr th:only-of-type {\n",
              "        vertical-align: middle;\n",
              "    }\n",
              "\n",
              "    .dataframe tbody tr th {\n",
              "        vertical-align: top;\n",
              "    }\n",
              "\n",
              "    .dataframe thead th {\n",
              "        text-align: right;\n",
              "    }\n",
              "</style>\n",
              "<table border=\"1\" class=\"dataframe\">\n",
              "  <thead>\n",
              "    <tr style=\"text-align: right;\">\n",
              "      <th></th>\n",
              "      <th>abilities</th>\n",
              "      <th>against_bug</th>\n",
              "      <th>against_dark</th>\n",
              "      <th>against_dragon</th>\n",
              "      <th>against_electric</th>\n",
              "      <th>against_fairy</th>\n",
              "      <th>against_fight</th>\n",
              "      <th>against_fire</th>\n",
              "      <th>against_flying</th>\n",
              "      <th>against_ghost</th>\n",
              "      <th>...</th>\n",
              "      <th>percentage_male</th>\n",
              "      <th>pokedex_number</th>\n",
              "      <th>sp_attack</th>\n",
              "      <th>sp_defense</th>\n",
              "      <th>speed</th>\n",
              "      <th>type1</th>\n",
              "      <th>type2</th>\n",
              "      <th>weight_kg</th>\n",
              "      <th>generation</th>\n",
              "      <th>is_legendary</th>\n",
              "    </tr>\n",
              "  </thead>\n",
              "  <tbody>\n",
              "    <tr>\n",
              "      <th>0</th>\n",
              "      <td>['Overgrow', 'Chlorophyll']</td>\n",
              "      <td>1.0</td>\n",
              "      <td>1.0</td>\n",
              "      <td>1.0</td>\n",
              "      <td>0.5</td>\n",
              "      <td>0.5</td>\n",
              "      <td>0.5</td>\n",
              "      <td>2.0</td>\n",
              "      <td>2.0</td>\n",
              "      <td>1.0</td>\n",
              "      <td>...</td>\n",
              "      <td>88.1</td>\n",
              "      <td>1</td>\n",
              "      <td>65</td>\n",
              "      <td>65</td>\n",
              "      <td>45</td>\n",
              "      <td>grass</td>\n",
              "      <td>poison</td>\n",
              "      <td>6.9</td>\n",
              "      <td>1</td>\n",
              "      <td>0</td>\n",
              "    </tr>\n",
              "    <tr>\n",
              "      <th>1</th>\n",
              "      <td>['Overgrow', 'Chlorophyll']</td>\n",
              "      <td>1.0</td>\n",
              "      <td>1.0</td>\n",
              "      <td>1.0</td>\n",
              "      <td>0.5</td>\n",
              "      <td>0.5</td>\n",
              "      <td>0.5</td>\n",
              "      <td>2.0</td>\n",
              "      <td>2.0</td>\n",
              "      <td>1.0</td>\n",
              "      <td>...</td>\n",
              "      <td>88.1</td>\n",
              "      <td>2</td>\n",
              "      <td>80</td>\n",
              "      <td>80</td>\n",
              "      <td>60</td>\n",
              "      <td>grass</td>\n",
              "      <td>poison</td>\n",
              "      <td>13.0</td>\n",
              "      <td>1</td>\n",
              "      <td>0</td>\n",
              "    </tr>\n",
              "    <tr>\n",
              "      <th>2</th>\n",
              "      <td>['Overgrow', 'Chlorophyll']</td>\n",
              "      <td>1.0</td>\n",
              "      <td>1.0</td>\n",
              "      <td>1.0</td>\n",
              "      <td>0.5</td>\n",
              "      <td>0.5</td>\n",
              "      <td>0.5</td>\n",
              "      <td>2.0</td>\n",
              "      <td>2.0</td>\n",
              "      <td>1.0</td>\n",
              "      <td>...</td>\n",
              "      <td>88.1</td>\n",
              "      <td>3</td>\n",
              "      <td>122</td>\n",
              "      <td>120</td>\n",
              "      <td>80</td>\n",
              "      <td>grass</td>\n",
              "      <td>poison</td>\n",
              "      <td>100.0</td>\n",
              "      <td>1</td>\n",
              "      <td>0</td>\n",
              "    </tr>\n",
              "    <tr>\n",
              "      <th>3</th>\n",
              "      <td>['Blaze', 'Solar Power']</td>\n",
              "      <td>0.5</td>\n",
              "      <td>1.0</td>\n",
              "      <td>1.0</td>\n",
              "      <td>1.0</td>\n",
              "      <td>0.5</td>\n",
              "      <td>1.0</td>\n",
              "      <td>0.5</td>\n",
              "      <td>1.0</td>\n",
              "      <td>1.0</td>\n",
              "      <td>...</td>\n",
              "      <td>88.1</td>\n",
              "      <td>4</td>\n",
              "      <td>60</td>\n",
              "      <td>50</td>\n",
              "      <td>65</td>\n",
              "      <td>fire</td>\n",
              "      <td>NaN</td>\n",
              "      <td>8.5</td>\n",
              "      <td>1</td>\n",
              "      <td>0</td>\n",
              "    </tr>\n",
              "    <tr>\n",
              "      <th>4</th>\n",
              "      <td>['Blaze', 'Solar Power']</td>\n",
              "      <td>0.5</td>\n",
              "      <td>1.0</td>\n",
              "      <td>1.0</td>\n",
              "      <td>1.0</td>\n",
              "      <td>0.5</td>\n",
              "      <td>1.0</td>\n",
              "      <td>0.5</td>\n",
              "      <td>1.0</td>\n",
              "      <td>1.0</td>\n",
              "      <td>...</td>\n",
              "      <td>88.1</td>\n",
              "      <td>5</td>\n",
              "      <td>80</td>\n",
              "      <td>65</td>\n",
              "      <td>80</td>\n",
              "      <td>fire</td>\n",
              "      <td>NaN</td>\n",
              "      <td>19.0</td>\n",
              "      <td>1</td>\n",
              "      <td>0</td>\n",
              "    </tr>\n",
              "  </tbody>\n",
              "</table>\n",
              "<p>5 rows × 41 columns</p>\n",
              "</div>\n",
              "    <div class=\"colab-df-buttons\">\n",
              "\n",
              "  <div class=\"colab-df-container\">\n",
              "    <button class=\"colab-df-convert\" onclick=\"convertToInteractive('df-2fc9eecc-5885-4616-86bd-8fc3aa738bf7')\"\n",
              "            title=\"Convert this dataframe to an interactive table.\"\n",
              "            style=\"display:none;\">\n",
              "\n",
              "  <svg xmlns=\"http://www.w3.org/2000/svg\" height=\"24px\" viewBox=\"0 -960 960 960\">\n",
              "    <path d=\"M120-120v-720h720v720H120Zm60-500h600v-160H180v160Zm220 220h160v-160H400v160Zm0 220h160v-160H400v160ZM180-400h160v-160H180v160Zm440 0h160v-160H620v160ZM180-180h160v-160H180v160Zm440 0h160v-160H620v160Z\"/>\n",
              "  </svg>\n",
              "    </button>\n",
              "\n",
              "  <style>\n",
              "    .colab-df-container {\n",
              "      display:flex;\n",
              "      gap: 12px;\n",
              "    }\n",
              "\n",
              "    .colab-df-convert {\n",
              "      background-color: #E8F0FE;\n",
              "      border: none;\n",
              "      border-radius: 50%;\n",
              "      cursor: pointer;\n",
              "      display: none;\n",
              "      fill: #1967D2;\n",
              "      height: 32px;\n",
              "      padding: 0 0 0 0;\n",
              "      width: 32px;\n",
              "    }\n",
              "\n",
              "    .colab-df-convert:hover {\n",
              "      background-color: #E2EBFA;\n",
              "      box-shadow: 0px 1px 2px rgba(60, 64, 67, 0.3), 0px 1px 3px 1px rgba(60, 64, 67, 0.15);\n",
              "      fill: #174EA6;\n",
              "    }\n",
              "\n",
              "    .colab-df-buttons div {\n",
              "      margin-bottom: 4px;\n",
              "    }\n",
              "\n",
              "    [theme=dark] .colab-df-convert {\n",
              "      background-color: #3B4455;\n",
              "      fill: #D2E3FC;\n",
              "    }\n",
              "\n",
              "    [theme=dark] .colab-df-convert:hover {\n",
              "      background-color: #434B5C;\n",
              "      box-shadow: 0px 1px 3px 1px rgba(0, 0, 0, 0.15);\n",
              "      filter: drop-shadow(0px 1px 2px rgba(0, 0, 0, 0.3));\n",
              "      fill: #FFFFFF;\n",
              "    }\n",
              "  </style>\n",
              "\n",
              "    <script>\n",
              "      const buttonEl =\n",
              "        document.querySelector('#df-2fc9eecc-5885-4616-86bd-8fc3aa738bf7 button.colab-df-convert');\n",
              "      buttonEl.style.display =\n",
              "        google.colab.kernel.accessAllowed ? 'block' : 'none';\n",
              "\n",
              "      async function convertToInteractive(key) {\n",
              "        const element = document.querySelector('#df-2fc9eecc-5885-4616-86bd-8fc3aa738bf7');\n",
              "        const dataTable =\n",
              "          await google.colab.kernel.invokeFunction('convertToInteractive',\n",
              "                                                    [key], {});\n",
              "        if (!dataTable) return;\n",
              "\n",
              "        const docLinkHtml = 'Like what you see? Visit the ' +\n",
              "          '<a target=\"_blank\" href=https://colab.research.google.com/notebooks/data_table.ipynb>data table notebook</a>'\n",
              "          + ' to learn more about interactive tables.';\n",
              "        element.innerHTML = '';\n",
              "        dataTable['output_type'] = 'display_data';\n",
              "        await google.colab.output.renderOutput(dataTable, element);\n",
              "        const docLink = document.createElement('div');\n",
              "        docLink.innerHTML = docLinkHtml;\n",
              "        element.appendChild(docLink);\n",
              "      }\n",
              "    </script>\n",
              "  </div>\n",
              "\n",
              "\n",
              "<div id=\"df-d0d8d1e2-7255-47a2-878e-f01e16dcdf76\">\n",
              "  <button class=\"colab-df-quickchart\" onclick=\"quickchart('df-d0d8d1e2-7255-47a2-878e-f01e16dcdf76')\"\n",
              "            title=\"Suggest charts\"\n",
              "            style=\"display:none;\">\n",
              "\n",
              "<svg xmlns=\"http://www.w3.org/2000/svg\" height=\"24px\"viewBox=\"0 0 24 24\"\n",
              "     width=\"24px\">\n",
              "    <g>\n",
              "        <path d=\"M19 3H5c-1.1 0-2 .9-2 2v14c0 1.1.9 2 2 2h14c1.1 0 2-.9 2-2V5c0-1.1-.9-2-2-2zM9 17H7v-7h2v7zm4 0h-2V7h2v10zm4 0h-2v-4h2v4z\"/>\n",
              "    </g>\n",
              "</svg>\n",
              "  </button>\n",
              "\n",
              "<style>\n",
              "  .colab-df-quickchart {\n",
              "      --bg-color: #E8F0FE;\n",
              "      --fill-color: #1967D2;\n",
              "      --hover-bg-color: #E2EBFA;\n",
              "      --hover-fill-color: #174EA6;\n",
              "      --disabled-fill-color: #AAA;\n",
              "      --disabled-bg-color: #DDD;\n",
              "  }\n",
              "\n",
              "  [theme=dark] .colab-df-quickchart {\n",
              "      --bg-color: #3B4455;\n",
              "      --fill-color: #D2E3FC;\n",
              "      --hover-bg-color: #434B5C;\n",
              "      --hover-fill-color: #FFFFFF;\n",
              "      --disabled-bg-color: #3B4455;\n",
              "      --disabled-fill-color: #666;\n",
              "  }\n",
              "\n",
              "  .colab-df-quickchart {\n",
              "    background-color: var(--bg-color);\n",
              "    border: none;\n",
              "    border-radius: 50%;\n",
              "    cursor: pointer;\n",
              "    display: none;\n",
              "    fill: var(--fill-color);\n",
              "    height: 32px;\n",
              "    padding: 0;\n",
              "    width: 32px;\n",
              "  }\n",
              "\n",
              "  .colab-df-quickchart:hover {\n",
              "    background-color: var(--hover-bg-color);\n",
              "    box-shadow: 0 1px 2px rgba(60, 64, 67, 0.3), 0 1px 3px 1px rgba(60, 64, 67, 0.15);\n",
              "    fill: var(--button-hover-fill-color);\n",
              "  }\n",
              "\n",
              "  .colab-df-quickchart-complete:disabled,\n",
              "  .colab-df-quickchart-complete:disabled:hover {\n",
              "    background-color: var(--disabled-bg-color);\n",
              "    fill: var(--disabled-fill-color);\n",
              "    box-shadow: none;\n",
              "  }\n",
              "\n",
              "  .colab-df-spinner {\n",
              "    border: 2px solid var(--fill-color);\n",
              "    border-color: transparent;\n",
              "    border-bottom-color: var(--fill-color);\n",
              "    animation:\n",
              "      spin 1s steps(1) infinite;\n",
              "  }\n",
              "\n",
              "  @keyframes spin {\n",
              "    0% {\n",
              "      border-color: transparent;\n",
              "      border-bottom-color: var(--fill-color);\n",
              "      border-left-color: var(--fill-color);\n",
              "    }\n",
              "    20% {\n",
              "      border-color: transparent;\n",
              "      border-left-color: var(--fill-color);\n",
              "      border-top-color: var(--fill-color);\n",
              "    }\n",
              "    30% {\n",
              "      border-color: transparent;\n",
              "      border-left-color: var(--fill-color);\n",
              "      border-top-color: var(--fill-color);\n",
              "      border-right-color: var(--fill-color);\n",
              "    }\n",
              "    40% {\n",
              "      border-color: transparent;\n",
              "      border-right-color: var(--fill-color);\n",
              "      border-top-color: var(--fill-color);\n",
              "    }\n",
              "    60% {\n",
              "      border-color: transparent;\n",
              "      border-right-color: var(--fill-color);\n",
              "    }\n",
              "    80% {\n",
              "      border-color: transparent;\n",
              "      border-right-color: var(--fill-color);\n",
              "      border-bottom-color: var(--fill-color);\n",
              "    }\n",
              "    90% {\n",
              "      border-color: transparent;\n",
              "      border-bottom-color: var(--fill-color);\n",
              "    }\n",
              "  }\n",
              "</style>\n",
              "\n",
              "  <script>\n",
              "    async function quickchart(key) {\n",
              "      const quickchartButtonEl =\n",
              "        document.querySelector('#' + key + ' button');\n",
              "      quickchartButtonEl.disabled = true;  // To prevent multiple clicks.\n",
              "      quickchartButtonEl.classList.add('colab-df-spinner');\n",
              "      try {\n",
              "        const charts = await google.colab.kernel.invokeFunction(\n",
              "            'suggestCharts', [key], {});\n",
              "      } catch (error) {\n",
              "        console.error('Error during call to suggestCharts:', error);\n",
              "      }\n",
              "      quickchartButtonEl.classList.remove('colab-df-spinner');\n",
              "      quickchartButtonEl.classList.add('colab-df-quickchart-complete');\n",
              "    }\n",
              "    (() => {\n",
              "      let quickchartButtonEl =\n",
              "        document.querySelector('#df-d0d8d1e2-7255-47a2-878e-f01e16dcdf76 button');\n",
              "      quickchartButtonEl.style.display =\n",
              "        google.colab.kernel.accessAllowed ? 'block' : 'none';\n",
              "    })();\n",
              "  </script>\n",
              "</div>\n",
              "\n",
              "    </div>\n",
              "  </div>\n"
            ],
            "text/plain": [
              "                     abilities  against_bug  against_dark  against_dragon  \\\n",
              "0  ['Overgrow', 'Chlorophyll']          1.0           1.0             1.0   \n",
              "1  ['Overgrow', 'Chlorophyll']          1.0           1.0             1.0   \n",
              "2  ['Overgrow', 'Chlorophyll']          1.0           1.0             1.0   \n",
              "3     ['Blaze', 'Solar Power']          0.5           1.0             1.0   \n",
              "4     ['Blaze', 'Solar Power']          0.5           1.0             1.0   \n",
              "\n",
              "   against_electric  against_fairy  against_fight  against_fire  \\\n",
              "0               0.5            0.5            0.5           2.0   \n",
              "1               0.5            0.5            0.5           2.0   \n",
              "2               0.5            0.5            0.5           2.0   \n",
              "3               1.0            0.5            1.0           0.5   \n",
              "4               1.0            0.5            1.0           0.5   \n",
              "\n",
              "   against_flying  against_ghost  ...  percentage_male  pokedex_number  \\\n",
              "0             2.0            1.0  ...             88.1               1   \n",
              "1             2.0            1.0  ...             88.1               2   \n",
              "2             2.0            1.0  ...             88.1               3   \n",
              "3             1.0            1.0  ...             88.1               4   \n",
              "4             1.0            1.0  ...             88.1               5   \n",
              "\n",
              "   sp_attack  sp_defense  speed  type1   type2  weight_kg  generation  \\\n",
              "0         65          65     45  grass  poison        6.9           1   \n",
              "1         80          80     60  grass  poison       13.0           1   \n",
              "2        122         120     80  grass  poison      100.0           1   \n",
              "3         60          50     65   fire     NaN        8.5           1   \n",
              "4         80          65     80   fire     NaN       19.0           1   \n",
              "\n",
              "   is_legendary  \n",
              "0             0  \n",
              "1             0  \n",
              "2             0  \n",
              "3             0  \n",
              "4             0  \n",
              "\n",
              "[5 rows x 41 columns]"
            ]
          },
          "execution_count": 5,
          "metadata": {},
          "output_type": "execute_result"
        }
      ],
      "source": [
        "df.head()"
      ]
    },
    {
      "cell_type": "code",
      "execution_count": 6,
      "id": "vJZSkVJWjWzc",
      "metadata": {
        "colab": {
          "base_uri": "https://localhost:8080/"
        },
        "id": "vJZSkVJWjWzc",
        "outputId": "c907473d-3738-4397-ff57-58ef1e41d0db"
      },
      "outputs": [
        {
          "name": "stdout",
          "output_type": "stream",
          "text": [
            "<class 'pandas.core.frame.DataFrame'>\n",
            "RangeIndex: 801 entries, 0 to 800\n",
            "Data columns (total 41 columns):\n",
            " #   Column             Non-Null Count  Dtype  \n",
            "---  ------             --------------  -----  \n",
            " 0   abilities          801 non-null    object \n",
            " 1   against_bug        801 non-null    float64\n",
            " 2   against_dark       801 non-null    float64\n",
            " 3   against_dragon     801 non-null    float64\n",
            " 4   against_electric   801 non-null    float64\n",
            " 5   against_fairy      801 non-null    float64\n",
            " 6   against_fight      801 non-null    float64\n",
            " 7   against_fire       801 non-null    float64\n",
            " 8   against_flying     801 non-null    float64\n",
            " 9   against_ghost      801 non-null    float64\n",
            " 10  against_grass      801 non-null    float64\n",
            " 11  against_ground     801 non-null    float64\n",
            " 12  against_ice        801 non-null    float64\n",
            " 13  against_normal     801 non-null    float64\n",
            " 14  against_poison     801 non-null    float64\n",
            " 15  against_psychic    801 non-null    float64\n",
            " 16  against_rock       801 non-null    float64\n",
            " 17  against_steel      801 non-null    float64\n",
            " 18  against_water      801 non-null    float64\n",
            " 19  attack             801 non-null    int64  \n",
            " 20  base_egg_steps     801 non-null    int64  \n",
            " 21  base_happiness     801 non-null    int64  \n",
            " 22  base_total         801 non-null    int64  \n",
            " 23  capture_rate       801 non-null    object \n",
            " 24  classfication      801 non-null    object \n",
            " 25  defense            801 non-null    int64  \n",
            " 26  experience_growth  801 non-null    int64  \n",
            " 27  height_m           781 non-null    float64\n",
            " 28  hp                 801 non-null    int64  \n",
            " 29  japanese_name      801 non-null    object \n",
            " 30  name               801 non-null    object \n",
            " 31  percentage_male    703 non-null    float64\n",
            " 32  pokedex_number     801 non-null    int64  \n",
            " 33  sp_attack          801 non-null    int64  \n",
            " 34  sp_defense         801 non-null    int64  \n",
            " 35  speed              801 non-null    int64  \n",
            " 36  type1              801 non-null    object \n",
            " 37  type2              417 non-null    object \n",
            " 38  weight_kg          781 non-null    float64\n",
            " 39  generation         801 non-null    int64  \n",
            " 40  is_legendary       801 non-null    int64  \n",
            "dtypes: float64(21), int64(13), object(7)\n",
            "memory usage: 256.7+ KB\n"
          ]
        }
      ],
      "source": [
        "df.info()"
      ]
    },
    {
      "cell_type": "markdown",
      "id": "f1254bf9-b44c-4811-aed4-a8e0b43d949c",
      "metadata": {
        "id": "f1254bf9-b44c-4811-aed4-a8e0b43d949c"
      },
      "source": [
        "# Preparação dos Dados no Dataframe\n",
        "\n",
        "Aqui vamos preparar os dados para o uso em cada modelo que usaremos"
      ]
    },
    {
      "cell_type": "markdown",
      "id": "tLe89TpukA0p",
      "metadata": {
        "id": "tLe89TpukA0p",
        "jp-MarkdownHeadingCollapsed": true,
        "tags": []
      },
      "source": [
        "### Removendo colunas não utilizáveis\n"
      ]
    },
    {
      "cell_type": "code",
      "execution_count": 7,
      "id": "57f857fd-28bb-4c10-9b2c-fd17a39ac582",
      "metadata": {
        "id": "57f857fd-28bb-4c10-9b2c-fd17a39ac582"
      },
      "outputs": [],
      "source": [
        "dropped=['abilities', 'against_bug', 'against_dark', 'against_dragon',\n",
        "        'against_fairy', 'against_fight', 'against_fire',\n",
        "       'against_flying', 'against_ghost', 'against_grass', 'against_ground',\n",
        "       'against_ice', 'against_normal', 'against_poison', 'against_psychic',\n",
        "       'against_rock', 'against_steel', 'against_water', 'classfication',\n",
        "       'japanese_name', 'name', 'pokedex_number', 'type2','generation', 'percentage_male', 'capture_rate']\n",
        "\n",
        "df=df.drop(dropped, axis=1)"
      ]
    },
    {
      "cell_type": "code",
      "execution_count": 8,
      "id": "QPwEctZDlQtY",
      "metadata": {
        "colab": {
          "base_uri": "https://localhost:8080/"
        },
        "id": "QPwEctZDlQtY",
        "outputId": "fb549e2e-9366-42f9-ddc9-182c790d5e0b"
      },
      "outputs": [
        {
          "name": "stdout",
          "output_type": "stream",
          "text": [
            "<class 'pandas.core.frame.DataFrame'>\n",
            "RangeIndex: 801 entries, 0 to 800\n",
            "Data columns (total 15 columns):\n",
            " #   Column             Non-Null Count  Dtype  \n",
            "---  ------             --------------  -----  \n",
            " 0   against_electric   801 non-null    float64\n",
            " 1   attack             801 non-null    int64  \n",
            " 2   base_egg_steps     801 non-null    int64  \n",
            " 3   base_happiness     801 non-null    int64  \n",
            " 4   base_total         801 non-null    int64  \n",
            " 5   defense            801 non-null    int64  \n",
            " 6   experience_growth  801 non-null    int64  \n",
            " 7   height_m           781 non-null    float64\n",
            " 8   hp                 801 non-null    int64  \n",
            " 9   sp_attack          801 non-null    int64  \n",
            " 10  sp_defense         801 non-null    int64  \n",
            " 11  speed              801 non-null    int64  \n",
            " 12  type1              801 non-null    object \n",
            " 13  weight_kg          781 non-null    float64\n",
            " 14  is_legendary       801 non-null    int64  \n",
            "dtypes: float64(3), int64(11), object(1)\n",
            "memory usage: 94.0+ KB\n"
          ]
        }
      ],
      "source": [
        "df.info()"
      ]
    },
    {
      "cell_type": "code",
      "execution_count": null,
      "id": "gvKdCr78lSF5",
      "metadata": {
        "id": "gvKdCr78lSF5"
      },
      "outputs": [],
      "source": [
        "df.head()"
      ]
    },
    {
      "cell_type": "markdown",
      "id": "EB6f2tNTkUSN",
      "metadata": {
        "id": "EB6f2tNTkUSN",
        "jp-MarkdownHeadingCollapsed": true,
        "tags": []
      },
      "source": [
        "### Seleciona pokemons 'Water' e 'Normal' e redefine tipos\n"
      ]
    },
    {
      "cell_type": "code",
      "execution_count": null,
      "id": "1c92f1cb-66fd-43d7-8ca0-6b05f1706804",
      "metadata": {
        "id": "1c92f1cb-66fd-43d7-8ca0-6b05f1706804"
      },
      "outputs": [],
      "source": [
        "# seleciona pokemons 'water' e 'normal'\n",
        "\n",
        "#df = df[pd.to_numeric(df['capture_rate'], errors = 'coerce').notnull()]\n",
        "#df['capture_rate'] = df['capture_rate'].astype('int')\n",
        "\n",
        "df = df[df['type1'].isin(['water', 'normal'])]\n",
        "df['type1'] = df['type1'].replace({'water':1, 'normal':0})"
      ]
    },
    {
      "cell_type": "markdown",
      "id": "TRtt9CnIkj0w",
      "metadata": {
        "id": "TRtt9CnIkj0w",
        "jp-MarkdownHeadingCollapsed": true,
        "tags": []
      },
      "source": [
        "### Remove NaNs\n",
        "\n",
        "\n"
      ]
    },
    {
      "cell_type": "code",
      "execution_count": null,
      "id": "-om59JKw1S_-",
      "metadata": {
        "id": "-om59JKw1S_-"
      },
      "outputs": [],
      "source": [
        "df = df.dropna()"
      ]
    },
    {
      "cell_type": "markdown",
      "id": "QdSRVmiJkxJy",
      "metadata": {
        "id": "QdSRVmiJkxJy",
        "jp-MarkdownHeadingCollapsed": true,
        "tags": []
      },
      "source": [
        "### Infos gerais do main dataframe\n",
        "\n",
        "\n"
      ]
    },
    {
      "cell_type": "code",
      "execution_count": null,
      "id": "70240ed3-7d1a-442f-9037-16ea698ac415",
      "metadata": {
        "id": "70240ed3-7d1a-442f-9037-16ea698ac415"
      },
      "outputs": [],
      "source": [
        "df.info()\n",
        "\n"
      ]
    },
    {
      "cell_type": "code",
      "execution_count": null,
      "id": "MsvVvyfSaJ8P",
      "metadata": {
        "id": "MsvVvyfSaJ8P"
      },
      "outputs": [],
      "source": [
        "df"
      ]
    },
    {
      "cell_type": "code",
      "execution_count": null,
      "id": "pATCUrj5aY2S",
      "metadata": {
        "id": "pATCUrj5aY2S"
      },
      "outputs": [],
      "source": [
        "df['type1'].value_counts()\n",
        "#dfnormal = df[df['type1']==0]\n",
        "#dfwater = df[df['type1']==1]"
      ]
    },
    {
      "cell_type": "markdown",
      "id": "5Uwex1dTlHlA",
      "metadata": {
        "id": "5Uwex1dTlHlA",
        "jp-MarkdownHeadingCollapsed": true,
        "tags": []
      },
      "source": [
        "## Separando features em treino e teste\n",
        "\n",
        "\n"
      ]
    },
    {
      "cell_type": "code",
      "execution_count": null,
      "id": "6Hi1Gy46r-nc",
      "metadata": {
        "id": "6Hi1Gy46r-nc"
      },
      "outputs": [],
      "source": [
        "feature_df = df[['against_electric', 'attack', 'base_egg_steps', 'base_happiness', 'base_total',\n",
        "                 'defense', 'experience_growth', 'height_m', 'hp',\n",
        "                 'sp_attack', 'sp_defense', 'speed',\n",
        "                 'weight_kg', 'is_legendary']]\n",
        "\n",
        "X = np.asarray(feature_df)\n",
        "Y = np.asarray(df['type1'])\n",
        "\n"
      ]
    },
    {
      "cell_type": "code",
      "execution_count": null,
      "id": "ORINc3qru1_K",
      "metadata": {
        "id": "ORINc3qru1_K"
      },
      "outputs": [],
      "source": [
        "from sklearn.model_selection import train_test_split\n",
        "\n",
        "X_train, X_test, Y_train, Y_test = train_test_split(X, Y, test_size=0.2, random_state=seed)\n",
        "\n",
        "\n"
      ]
    },
    {
      "cell_type": "markdown",
      "id": "8O5zvQGklmX0",
      "metadata": {
        "id": "8O5zvQGklmX0",
        "jp-MarkdownHeadingCollapsed": true,
        "tags": []
      },
      "source": [
        "# Montagem dos modelos & chamadas dos modelos\n",
        "\n",
        "\n"
      ]
    },
    {
      "cell_type": "markdown",
      "id": "S1xoklXqFptd",
      "metadata": {
        "id": "S1xoklXqFptd"
      },
      "source": [
        "## SVM's"
      ]
    },
    {
      "cell_type": "markdown",
      "id": "WHbHx3xvqXBN",
      "metadata": {
        "id": "WHbHx3xvqXBN"
      },
      "source": [
        "####Desliga Warnings\n",
        "Esta execução dispara warning:\n",
        "\n",
        " *warnings.warn(\n",
        "/usr/local/lib/python3.10/dist-packages/sklearn/svm/_base.py:299: ConvergenceWarning: Solver terminated early (max_iter=200).  Consider pre-processing your data with StandardScaler or MinMaxScaler.*\n",
        "\n",
        "Inúmeras vezes. Tanto que compromete a saida grafica do processamento do algoritmo. Antes de executar as células, desligue os warnings."
      ]
    },
    {
      "cell_type": "code",
      "execution_count": null,
      "id": "KYKJbkSnqWUP",
      "metadata": {
        "id": "KYKJbkSnqWUP"
      },
      "outputs": [],
      "source": [
        "import warnings\n",
        "warnings.filterwarnings(\"ignore\")"
      ]
    },
    {
      "cell_type": "markdown",
      "id": "HFoDxMfvqyxC",
      "metadata": {
        "id": "HFoDxMfvqyxC"
      },
      "source": [
        "####Religa Warnings"
      ]
    },
    {
      "cell_type": "code",
      "execution_count": null,
      "id": "CqCBDe4Zq29L",
      "metadata": {
        "id": "CqCBDe4Zq29L"
      },
      "outputs": [],
      "source": [
        "warnings.filterwarnings(\"default\")"
      ]
    },
    {
      "cell_type": "markdown",
      "id": "3xG5jvGoq-BT",
      "metadata": {
        "id": "3xG5jvGoq-BT"
      },
      "source": [
        "####Implementação"
      ]
    },
    {
      "cell_type": "code",
      "execution_count": null,
      "id": "fgaQRc1Ap1bR",
      "metadata": {
        "id": "fgaQRc1Ap1bR"
      },
      "outputs": [],
      "source": [
        "from sklearn import svm\n",
        "\n",
        "def supvecmachine(X, Y, Xt, Yt):\n",
        "  svm_param_grid = {\n",
        "     'C': [0.001, 0.1, 1, 2, 10],\n",
        "     'gamma': [0.1, 0.5, 1, 2, 'scale', 'auto'],\n",
        "     'max_iter': [10, 20, 30, 100, 200, 1000],\n",
        "     'kernel': ['linear', 'rbf']\n",
        "  }\n",
        "\n",
        "\n",
        "  svm_classifier = svm.SVC(random_state=seed)\n",
        "\n",
        "  svm_kfold = KFold(n_splits=5, shuffle=True, random_state=seed)\n",
        "\n",
        "  grid_search = GridSearchCV(svm_classifier, svm_param_grid, cv=svm_kfold)\n",
        "  grid_search.fit(X, Y)\n",
        "\n",
        "  print(\"Parametros escolhidos: \", grid_search.best_params_)\n",
        "\n",
        "  svm_best = grid_search.best_estimator_\n",
        "  svm_best.fit(X, Y)\n",
        "\n",
        "  svm_Y_predict = svm_best.predict(Xt)\n",
        "  print(\"Acuracia:\", metrics.accuracy_score(Yt, svm_Y_predict))\n"
      ]
    },
    {
      "cell_type": "markdown",
      "id": "Ea00kFoGrEFP",
      "metadata": {
        "id": "Ea00kFoGrEFP"
      },
      "source": [
        "####Call SVM"
      ]
    },
    {
      "cell_type": "code",
      "execution_count": null,
      "id": "1tz-vKqriecJ",
      "metadata": {
        "colab": {
          "base_uri": "https://localhost:8080/"
        },
        "id": "1tz-vKqriecJ",
        "outputId": "283fd438-df53-44aa-f574-2696a1e1359a"
      },
      "outputs": [
        {
          "name": "stdout",
          "output_type": "stream",
          "text": [
            "Parametros escolhidos:  {'C': 0.1, 'gamma': 'auto', 'kernel': 'rbf', 'max_iter': 30}\n",
            "Acuracia: 0.5581395348837209\n"
          ]
        }
      ],
      "source": [
        "supvecmachine(X_train, Y_train, X_test, Y_test)"
      ]
    },
    {
      "cell_type": "markdown",
      "id": "I75B26zC4j_o",
      "metadata": {
        "id": "I75B26zC4j_o"
      },
      "source": [
        "## Decision Trees"
      ]
    },
    {
      "cell_type": "markdown",
      "id": "gebS6Qvnsi9H",
      "metadata": {
        "id": "gebS6Qvnsi9H"
      },
      "source": [
        "####Implementação"
      ]
    },
    {
      "cell_type": "code",
      "execution_count": null,
      "id": "KMFgwiLZCnyW",
      "metadata": {
        "id": "KMFgwiLZCnyW"
      },
      "outputs": [],
      "source": [
        "from sklearn.tree import DecisionTreeClassifier\n",
        "\n",
        "def decisiontree(X, Y, Xt, Yt):\n",
        "  dectree_param_grid = {\n",
        "      'max_depth': [10, 25, 50, 100, 250, 400],\n",
        "      'min_samples_split': [2, 5, 12, 30, 50, 100],\n",
        "      'max_depth': [2, 5, 10],\n",
        "      'splitter': ['best', 'random'],\n",
        "      'criterion': ['gini', 'entrophy']\n",
        "  }\n",
        "\n",
        "  dectree_classifier = DecisionTreeClassifier()\n",
        "\n",
        "  dectree_kfold = KFold(n_splits=5, shuffle=True, random_state=seed)\n",
        "\n",
        "  grid_search = GridSearchCV(dectree_classifier, dectree_param_grid, cv=dectree_kfold)\n",
        "\n",
        "  grid_search.fit(X, Y)\n",
        "\n",
        "  print(\"Parametros escolhidos: \", grid_search.best_params_)\n",
        "\n",
        "  dectree_best = grid_search.best_estimator_\n",
        "  dectree_best.fit(X, Y)\n",
        "\n",
        "  dectree_Y_predict = dectree_best.predict(Xt)\n",
        "  print(\"Acuracia:\", metrics.accuracy_score(Yt, dectree_Y_predict))\n",
        "  print(\"Feature mais importante:\", np.max(dectree_best.feature_importances_))\n",
        "  print(dectree_best.feature_importances_)"
      ]
    },
    {
      "cell_type": "markdown",
      "id": "IuOHzQnMsnHt",
      "metadata": {
        "id": "IuOHzQnMsnHt"
      },
      "source": [
        "####Call Decision Tree"
      ]
    },
    {
      "cell_type": "code",
      "execution_count": null,
      "id": "-OfXa5Wbiaz-",
      "metadata": {
        "colab": {
          "base_uri": "https://localhost:8080/"
        },
        "id": "-OfXa5Wbiaz-",
        "outputId": "58ffe1f3-26ae-40f1-e35a-5f3ea1426622"
      },
      "outputs": [
        {
          "name": "stdout",
          "output_type": "stream",
          "text": [
            "Parametros escolhidos:  {'criterion': 'gini', 'max_depth': 5, 'min_samples_split': 12, 'splitter': 'best'}\n",
            "Acuracia: 0.8604651162790697\n",
            "Feature mais importante: 0.4985891654289236\n",
            "[0.49858917 0.06912187 0.11416142 0.         0.         0.08794144\n",
            " 0.07317758 0.         0.         0.04741492 0.         0.06325019\n",
            " 0.04634342 0.        ]\n"
          ]
        },
        {
          "name": "stderr",
          "output_type": "stream",
          "text": [
            "/usr/local/lib/python3.10/dist-packages/sklearn/model_selection/_validation.py:378: FitFailedWarning: \n",
            "180 fits failed out of a total of 360.\n",
            "The score on these train-test partitions for these parameters will be set to nan.\n",
            "If these failures are not expected, you can try to debug them by setting error_score='raise'.\n",
            "\n",
            "Below are more details about the failures:\n",
            "--------------------------------------------------------------------------------\n",
            "180 fits failed with the following error:\n",
            "Traceback (most recent call last):\n",
            "  File \"/usr/local/lib/python3.10/dist-packages/sklearn/model_selection/_validation.py\", line 686, in _fit_and_score\n",
            "    estimator.fit(X_train, y_train, **fit_params)\n",
            "  File \"/usr/local/lib/python3.10/dist-packages/sklearn/tree/_classes.py\", line 889, in fit\n",
            "    super().fit(\n",
            "  File \"/usr/local/lib/python3.10/dist-packages/sklearn/tree/_classes.py\", line 177, in fit\n",
            "    self._validate_params()\n",
            "  File \"/usr/local/lib/python3.10/dist-packages/sklearn/base.py\", line 600, in _validate_params\n",
            "    validate_parameter_constraints(\n",
            "  File \"/usr/local/lib/python3.10/dist-packages/sklearn/utils/_param_validation.py\", line 97, in validate_parameter_constraints\n",
            "    raise InvalidParameterError(\n",
            "sklearn.utils._param_validation.InvalidParameterError: The 'criterion' parameter of DecisionTreeClassifier must be a str among {'entropy', 'gini', 'log_loss'}. Got 'entrophy' instead.\n",
            "\n",
            "  warnings.warn(some_fits_failed_message, FitFailedWarning)\n",
            "/usr/local/lib/python3.10/dist-packages/sklearn/model_selection/_search.py:952: UserWarning: One or more of the test scores are non-finite: [0.77932773 0.68016807 0.77932773 0.7097479  0.77932773 0.63512605\n",
            " 0.77932773 0.65714286 0.76756303 0.6502521  0.77361345 0.66840336\n",
            " 0.81378151 0.72067227 0.82504202 0.72705882 0.84840336 0.69764706\n",
            " 0.80235294 0.68605042 0.76739496 0.69731092 0.77361345 0.69159664\n",
            " 0.82487395 0.79714286 0.79613445 0.78470588 0.84268908 0.79563025\n",
            " 0.80235294 0.72134454 0.76739496 0.66756303 0.77361345 0.68521008\n",
            "        nan        nan        nan        nan        nan        nan\n",
            "        nan        nan        nan        nan        nan        nan\n",
            "        nan        nan        nan        nan        nan        nan\n",
            "        nan        nan        nan        nan        nan        nan\n",
            "        nan        nan        nan        nan        nan        nan\n",
            "        nan        nan        nan        nan        nan        nan]\n",
            "  warnings.warn(\n"
          ]
        }
      ],
      "source": [
        "decisiontree(X_train, Y_train, X_test, Y_test)"
      ]
    },
    {
      "cell_type": "markdown",
      "id": "x2EsW_k4FhCo",
      "metadata": {
        "id": "x2EsW_k4FhCo"
      },
      "source": [
        "##Random Forests"
      ]
    },
    {
      "cell_type": "markdown",
      "id": "yZu16OgMszhe",
      "metadata": {
        "id": "yZu16OgMszhe"
      },
      "source": [
        "####Implementação"
      ]
    },
    {
      "cell_type": "code",
      "execution_count": null,
      "id": "VZbuzkLhFo73",
      "metadata": {
        "id": "VZbuzkLhFo73"
      },
      "outputs": [],
      "source": [
        "from sklearn.ensemble import RandomForestClassifier\n",
        "\n",
        "#Esta função leva alguns minutos para executar!!!\n",
        "def randomforest(X, Y, Xt, Yt):\n",
        "  randfor_param = {\n",
        "      'criterion':['gini', 'entropy'],\n",
        "      'n_estimators': [50, 100, 200, 300],\n",
        "      'max_depth': [2, 5, 10],\n",
        "      'class_weight': ['balanced', 'balanced_subsample'],\n",
        "      'min_samples_split': [2,  5, 12, 30, 50]\n",
        "  }\n",
        "\n",
        "  randfor_classifier = RandomForestClassifier(random_state=seed)\n",
        "\n",
        "  randfor_kfold = KFold(n_splits=5, shuffle=True, random_state=seed)\n",
        "\n",
        "  randfor_grid = GridSearchCV(randfor_classifier, randfor_param, cv=randfor_kfold)\n",
        "\n",
        "  randfor_grid.fit(X, Y)\n",
        "\n",
        "  print(\"Parametros escolhidos: \", randfor_grid.best_params_)\n",
        "\n",
        "  randfor_best = randfor_grid.best_estimator_\n",
        "\n",
        "  randfor_best.fit(X, Y)\n",
        "\n",
        "  randfor_Y_pred = randfor_best.predict(Xt)\n",
        "  print(\"Acuracia:\", metrics.accuracy_score(Yt, randfor_Y_pred))\n",
        "  print(\"Feature mais importante:\", np.max(randfor_best.feature_importances_))\n",
        "  print(randfor_best.feature_importances_)\n",
        "\n",
        "#pd.DataFrame(y_pred_rf).to_csv(\"y-pred-rf.csv\", index=False)\n",
        "#Conclusão em 18 minutos"
      ]
    },
    {
      "cell_type": "markdown",
      "id": "PC2hijXBs5O1",
      "metadata": {
        "id": "PC2hijXBs5O1"
      },
      "source": [
        "####Call Random Forest"
      ]
    },
    {
      "cell_type": "code",
      "execution_count": null,
      "id": "R5-axvqkiXst",
      "metadata": {
        "colab": {
          "base_uri": "https://localhost:8080/"
        },
        "id": "R5-axvqkiXst",
        "outputId": "d0b47162-e9fe-4a9a-cfcf-8bd1b0863088"
      },
      "outputs": [
        {
          "name": "stdout",
          "output_type": "stream",
          "text": [
            "Parametros escolhidos:  {'class_weight': 'balanced', 'criterion': 'gini', 'max_depth': 5, 'min_samples_split': 2, 'n_estimators': 300}\n",
            "Acuracia: 0.8372093023255814\n",
            "Feature mais importante: 0.24253306122535154\n",
            "[0.24253306 0.06866694 0.06084067 0.01529146 0.07044988 0.09215065\n",
            " 0.03735747 0.0292466  0.05937661 0.12809994 0.06693659 0.06636801\n",
            " 0.06200137 0.00068077]\n"
          ]
        }
      ],
      "source": [
        "randomforest(X_train, Y_train, X_test, Y_test)"
      ]
    },
    {
      "cell_type": "markdown",
      "id": "QztqFV5hGL83",
      "metadata": {
        "id": "QztqFV5hGL83"
      },
      "source": [
        "## Regressão Linear"
      ]
    },
    {
      "cell_type": "code",
      "execution_count": null,
      "id": "20c12rjGOIY0",
      "metadata": {
        "id": "20c12rjGOIY0"
      },
      "outputs": [],
      "source": [
        "from sklearn.linear_model import LogisticRegression\n",
        "\n",
        "def regressaolinear(X, Y, Xt, Yt):\n",
        "  reglin_param = {\n",
        "      'C': [0.01, 0.1, 1, 10],\n",
        "      'penalty': ['l1', 'l2'],\n",
        "      'solver': ['liblinear', 'lbfgs', 'sag', 'newton-cg'],\n",
        "      'max_iter': [10, 20, 50, 100, 150]\n",
        "  }\n",
        "\n",
        "  reglin_classifier = LogisticRegression()\n",
        "\n",
        "  reglin_kfold = KFold(n_splits=5, shuffle=True, random_state=seed)\n",
        "\n",
        "  reglin_grid = GridSearchCV(reglin_classifier, reglin_param, cv=reglin_kfold)\n",
        "\n",
        "  reglin_grid.fit(X, Y)\n",
        "\n",
        "  print(\"Parametros escolhidos: \", reglin_grid.best_params_)\n",
        "\n",
        "  reglin_best = reglin_grid.best_estimator_\n",
        "  reglin_best.fit(X, Y)\n",
        "\n",
        "  reglin_Y_pred = reglin_grid.predict(Xt)\n",
        "  print(\"Acuracia:\", metrics.accuracy_score(Yt, reglin_Y_pred))\n",
        "  print(np.max(reglin_best.coef_))\n",
        "  print(reglin_best.coef_)\n",
        "  #reglin_grid.bash\n",
        "\n"
      ]
    },
    {
      "cell_type": "code",
      "execution_count": null,
      "id": "60YTH8kVijvo",
      "metadata": {
        "colab": {
          "base_uri": "https://localhost:8080/"
        },
        "id": "60YTH8kVijvo",
        "outputId": "66cfb41b-c43d-4536-dbbd-0ae483a59fd2"
      },
      "outputs": [
        {
          "name": "stdout",
          "output_type": "stream",
          "text": [
            "Parametros escolhidos:  {'C': 0.01, 'max_iter': 100, 'penalty': 'l2', 'solver': 'newton-cg'}\n",
            "Acuracia: 0.627906976744186\n",
            "0.10653301593410562\n",
            "[[ 1.06533016e-01 -3.90209291e-02 -4.97328478e-05  1.11607833e-02\n",
            "   1.47910558e-03  4.65734664e-02  2.65732296e-06  9.91538591e-03\n",
            "  -2.83940987e-02  4.91060007e-02 -9.86555639e-03 -1.69197774e-02\n",
            "   1.36659413e-03  2.78938185e-03]]\n"
          ]
        }
      ],
      "source": [
        "regressaolinear(X_train, Y_train, X_test, Y_test)"
      ]
    },
    {
      "cell_type": "markdown",
      "id": "cMShQw1xGMMo",
      "metadata": {
        "id": "cMShQw1xGMMo"
      },
      "source": [
        "# Normalização dos dados de treino e validação & novas execuções"
      ]
    },
    {
      "cell_type": "markdown",
      "id": "Q1hAuroruXWd",
      "metadata": {
        "id": "Q1hAuroruXWd"
      },
      "source": [
        "## Normalização"
      ]
    },
    {
      "cell_type": "code",
      "execution_count": null,
      "id": "ffYTZGggr-hi",
      "metadata": {
        "id": "ffYTZGggr-hi"
      },
      "outputs": [],
      "source": [
        "from sklearn.preprocessing import StandardScaler\n",
        "\n",
        "scaler = StandardScaler()\n",
        "\n",
        "X_train_norm = scaler.fit_transform(X_train)\n",
        "X_test_norm = scaler.transform(X_test)"
      ]
    },
    {
      "cell_type": "markdown",
      "id": "fG7_lecStgY8",
      "metadata": {
        "id": "fG7_lecStgY8"
      },
      "source": [
        "## Nova execução dos modelos com dados normalizados"
      ]
    },
    {
      "cell_type": "markdown",
      "id": "9Wu2Kb0ZtpcA",
      "metadata": {
        "id": "9Wu2Kb0ZtpcA"
      },
      "source": [
        "### SVM's"
      ]
    },
    {
      "cell_type": "code",
      "execution_count": null,
      "id": "Bi-MepTjt6v5",
      "metadata": {
        "colab": {
          "base_uri": "https://localhost:8080/"
        },
        "id": "Bi-MepTjt6v5",
        "outputId": "d40ae0c7-2640-4276-a7b4-227326d01206"
      },
      "outputs": [
        {
          "name": "stdout",
          "output_type": "stream",
          "text": [
            "Parametros escolhidos:  {'C': 2, 'gamma': 0.5, 'kernel': 'rbf', 'max_iter': 200}\n",
            "Acuracia (sem normalizacao): 0.7906976744186046\n"
          ]
        }
      ],
      "source": [
        "supvecmachine(X_train_norm, Y_train, X_test_norm, Y_test)"
      ]
    },
    {
      "cell_type": "markdown",
      "id": "yzGHIF7Wtpmo",
      "metadata": {
        "id": "yzGHIF7Wtpmo"
      },
      "source": [
        "### Decision Trees"
      ]
    },
    {
      "cell_type": "code",
      "execution_count": null,
      "id": "OZjMpDvyt6c2",
      "metadata": {
        "colab": {
          "base_uri": "https://localhost:8080/"
        },
        "id": "OZjMpDvyt6c2",
        "outputId": "7e422a37-4dcd-4dfc-e49e-bac30326290a"
      },
      "outputs": [
        {
          "name": "stdout",
          "output_type": "stream",
          "text": [
            "Parametros escolhidos:  {'criterion': 'gini', 'max_depth': 5, 'min_samples_split': 12, 'splitter': 'best'}\n",
            "Acuracia (sem normalizacao): 0.8372093023255814\n"
          ]
        }
      ],
      "source": [
        "decisiontree(X_train_norm, Y_train, X_test_norm, Y_test)"
      ]
    },
    {
      "cell_type": "markdown",
      "id": "kMxc6QlKtp1S",
      "metadata": {
        "id": "kMxc6QlKtp1S"
      },
      "source": [
        "### Random Forests"
      ]
    },
    {
      "cell_type": "code",
      "execution_count": null,
      "id": "86n-3dRnt6Fl",
      "metadata": {
        "colab": {
          "base_uri": "https://localhost:8080/"
        },
        "id": "86n-3dRnt6Fl",
        "outputId": "56aa200f-ec33-4069-fcd8-f419824a7231"
      },
      "outputs": [
        {
          "name": "stdout",
          "output_type": "stream",
          "text": [
            "Parametros escolhidos:  {'class_weight': 'balanced', 'criterion': 'gini', 'max_depth': 5, 'min_samples_split': 2, 'n_estimators': 300}\n",
            "Acuracia (sem normalizacao): 0.8604651162790697\n"
          ]
        }
      ],
      "source": [
        "randomforest(X_train_norm, Y_train, X_test_norm, Y_test)"
      ]
    },
    {
      "cell_type": "markdown",
      "id": "yE-Os-25tqAK",
      "metadata": {
        "id": "yE-Os-25tqAK"
      },
      "source": [
        "### Regressão Linear"
      ]
    },
    {
      "cell_type": "code",
      "execution_count": null,
      "id": "gTVwq9ZltnAa",
      "metadata": {
        "colab": {
          "base_uri": "https://localhost:8080/"
        },
        "id": "gTVwq9ZltnAa",
        "outputId": "3eb9ba2a-c483-4e32-f89c-af6ce8318b5b"
      },
      "outputs": [
        {
          "name": "stdout",
          "output_type": "stream",
          "text": [
            "Parametros escolhidos:  {'C': 1, 'max_iter': 10, 'penalty': 'l1', 'solver': 'liblinear'}\n",
            "Acuracia (sem normalizacao): 0.7906976744186046\n"
          ]
        }
      ],
      "source": [
        "regressaolinear(X_train_norm, Y_train, X_test_norm, Y_test)"
      ]
    }
  ],
  "metadata": {
    "colab": {
      "provenance": []
    },
    "kernelspec": {
      "display_name": "Python 3 (ipykernel)",
      "language": "python",
      "name": "python3"
    },
    "language_info": {
      "codemirror_mode": {
        "name": "ipython",
        "version": 3
      },
      "file_extension": ".py",
      "mimetype": "text/x-python",
      "name": "python",
      "nbconvert_exporter": "python",
      "pygments_lexer": "ipython3",
      "version": "3.8.10"
    }
  },
  "nbformat": 4,
  "nbformat_minor": 5
}
